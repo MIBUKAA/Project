{
 "cells": [
  {
   "cell_type": "code",
   "execution_count": 1,
   "id": "0c905dd8-9914-42a2-bd88-d8ba0fde4801",
   "metadata": {
    "tags": []
   },
   "outputs": [],
   "source": [
    "%run Formular.ipynb\n",
    "import numpy as np\n",
    "import matplotlib.pyplot as plt"
   ]
  },
  {
   "cell_type": "code",
   "execution_count": 2,
   "id": "b5a2e2d9-a432-47ab-8164-9d717ba27cce",
   "metadata": {
    "tags": []
   },
   "outputs": [
    {
     "name": "stdout",
     "output_type": "stream",
     "text": [
      "[['5' '5' '2' '0' '1' 'nan' 'nan']\n",
      " ['4' 'nan' 'nan' '0' 'nan' '2' 'nan']\n",
      " ['nan' '4' '1' 'nan' 'nan' '1' '1']\n",
      " ['2' '2' '3' '4' '4' 'nan' '4']\n",
      " ['2' '0' '4' 'nan' 'nan' 'nan' '5']]\n"
     ]
    }
   ],
   "source": [
    "X = np.array([   [5, 5, 2, 0, 1, 'nan', 'nan'],\n",
    "        [4, 'nan', 'nan', 0, 'nan', 2, 'nan'],\n",
    "        ['nan', 4, 1, 'nan', 'nan', 1, 1],\n",
    "        [2, 2, 3, 4, 4, 'nan', 4],\n",
    "        [2, 0, 4, 'nan', 'nan', 'nan', 5] ])\n",
    "print(X)"
   ]
  },
  {
   "cell_type": "code",
   "execution_count": 36,
   "id": "73d9f302-eb45-4d0f-87ea-86de1811dc28",
   "metadata": {
    "tags": []
   },
   "outputs": [
    {
     "data": {
      "image/png": "[encoded data removed]",
      "text/plain": [
       "<Figure size 640x480 with 2 Axes>"
      ]
     },
     "metadata": {},
     "output_type": "display_data"
    }
   ],
   "source": [
    "visualized_array = X.astype(float)\n",
    "\n",
    "plt.imshow(visualized_array, cmap='coolwarm', aspect='auto', extent=[0, visualized_array.shape[1], 0, visualized_array.shape[0]], vmin=0, vmax=5)\n",
    "\n",
    "plt.xlabel('Movie IDs')\n",
    "plt.ylabel('User IDs')\n",
    "plt.title('Utility Matrix (Missing Values Masked)')\n",
    "\n",
    "plt.colorbar()\n",
    "plt.show()"
   ]
  },
  {
   "cell_type": "code",
   "execution_count": 4,
   "id": "1171a1df-7a98-4c28-9e7b-6cbfd5296a4d",
   "metadata": {
    "tags": []
   },
   "outputs": [
    {
     "name": "stdout",
     "output_type": "stream",
     "text": [
      "[[1. 1. 1. 1. 1. 0. 0.]\n",
      " [1. 0. 0. 1. 0. 1. 0.]\n",
      " [0. 1. 1. 0. 0. 1. 1.]\n",
      " [1. 1. 1. 1. 1. 0. 1.]\n",
      " [1. 1. 1. 0. 0. 0. 1.]]\n"
     ]
    }
   ],
   "source": [
    "Rated = np.zeros((len(X), len(X[0])), dtype=float)\n",
    "\n",
    "for i in range(len(X)):\n",
    "    for j in range(len(X[i])):\n",
    "        Rated[i, j] = 1 if X[i][j] != 'nan' else 0\n",
    "\n",
    "print(Rated)"
   ]
  },
  {
   "cell_type": "code",
   "execution_count": 5,
   "id": "9e4c2128-18af-4637-8786-06992c8933ef",
   "metadata": {
    "tags": []
   },
   "outputs": [
    {
     "name": "stdout",
     "output_type": "stream",
     "text": [
      "[13. 11. 10.  4.  5.  3. 10.]\n",
      "[4. 4. 4. 3. 2. 2. 3.]\n"
     ]
    }
   ],
   "source": [
    "def sum_column_excluding_nan(column):\n",
    "    column = np.array(column, dtype=float)\n",
    "    return np.nansum(column)\n",
    "\n",
    "X_column_sums = np.apply_along_axis(sum_column_excluding_nan, 0, X)\n",
    "print(X_column_sums)\n",
    "Rated_column_sums = np.apply_along_axis(sum_column_excluding_nan, 0, Rated)\n",
    "print(Rated_column_sums)"
   ]
  },
  {
   "cell_type": "code",
   "execution_count": 6,
   "id": "bd5dfd72-7e03-4767-a72b-41171cac616d",
   "metadata": {
    "tags": []
   },
   "outputs": [
    {
     "name": "stdout",
     "output_type": "stream",
     "text": [
      "[3.25       2.75       2.5        1.33333333 2.5        1.5\n",
      " 3.33333333]\n"
     ]
    }
   ],
   "source": [
    "theta = X_column_sums / Rated_column_sums\n",
    "print(theta)"
   ]
  },
  {
   "cell_type": "code",
   "execution_count": 7,
   "id": "8e583178-631d-4738-8739-98bed52443dc",
   "metadata": {
    "tags": []
   },
   "outputs": [
    {
     "name": "stdout",
     "output_type": "stream",
     "text": [
      "[[ 1.75        2.25       -0.5        -1.33333333 -1.5         0.\n",
      "   0.        ]\n",
      " [ 0.75        0.          0.         -1.33333333  0.          0.5\n",
      "   0.        ]\n",
      " [ 0.          1.25       -1.5         0.          0.         -0.5\n",
      "  -2.33333333]\n",
      " [-1.25       -0.75        0.5         2.66666667  1.5         0.\n",
      "   0.66666667]\n",
      " [-1.25       -2.75        1.5         0.          0.          0.\n",
      "   1.66666667]]\n"
     ]
    }
   ],
   "source": [
    "X_norm = np.zeros((len(X), len(X[0])), dtype=float)\n",
    "\n",
    "for i in range(len(X)):\n",
    "    for j in range(len(X[i])):\n",
    "        X_norm[i, j] = float(X[i,j]) - theta[j] if X[i][j] != 'nan' else 0\n",
    "\n",
    "print(X_norm)"
   ]
  },
  {
   "cell_type": "code",
   "execution_count": 8,
   "id": "591592e7-af5d-48ca-90d0-5a07da0ba494",
   "metadata": {
    "tags": []
   },
   "outputs": [],
   "source": [
    "def cosine_similarity(vector1, vector2):\n",
    "    return np.dot(vector1, vector2) / ( np.linalg.norm(vector1) * np.linalg.norm(vector2) )"
   ]
  },
  {
   "cell_type": "code",
   "execution_count": 9,
   "id": "b9d0b402-09f3-4f83-9d51-c3894ec56982",
   "metadata": {
    "tags": []
   },
   "outputs": [
    {
     "data": {
      "text/plain": [
       "array([[ 1.        ,  0.83307435, -0.5809475 , -0.7856742 , -0.81649658,\n",
       "         0.20412415, -0.38133693],\n",
       "       [ 0.83307435,  1.        , -0.87333376, -0.3986205 , -0.55234477,\n",
       "        -0.23014365, -0.70756759],\n",
       "       [-0.5809475 , -0.87333376,  1.        ,  0.27386128,  0.31622777,\n",
       "         0.47434165,  0.9621024 ],\n",
       "       [-0.7856742 , -0.3986205 ,  0.27386128,  1.        ,  0.8660254 ,\n",
       "        -0.28867513,  0.18490007],\n",
       "       [-0.81649658, -0.55234477,  0.31622777,  0.8660254 ,  1.        ,\n",
       "         0.        ,  0.16012815],\n",
       "       [ 0.20412415, -0.23014365,  0.47434165, -0.28867513,  0.        ,\n",
       "         1.        ,  0.56044854],\n",
       "       [-0.38133693, -0.70756759,  0.9621024 ,  0.18490007,  0.16012815,\n",
       "         0.56044854,  1.        ]])"
      ]
     },
     "execution_count": 9,
     "metadata": {},
     "output_type": "execute_result"
    }
   ],
   "source": [
    "X_norm_transpose = X_norm.T\n",
    "correlation_matrix = np.zeros((len(X_norm_transpose), len(X_norm_transpose)), dtype=float)\n",
    "for i in range (len(X_norm_transpose)):\n",
    "    for j in range (len(X_norm_transpose)):\n",
    "        correlation_matrix[i,j] = cosine_similarity(X_norm_transpose[i].T, X_norm_transpose[j].T)\n",
    "\n",
    "correlation_matrix"
   ]
  },
  {
   "cell_type": "code",
   "execution_count": 10,
   "id": "bc21dcad-ae56-451e-9a45-d4fdbc29839c",
   "metadata": {
    "tags": []
   },
   "outputs": [
    {
     "data": {
      "text/plain": [
       "array([[ 1.75      ,  2.25      , -0.5       , -1.33333333, -1.5       ,\n",
       "         0.17693807, -0.63433571],\n",
       "       [ 0.75      ,  0.4794256 , -0.17104657, -1.33333333, -1.33333333,\n",
       "         0.5       ,  0.04520146],\n",
       "       [ 0.90559413,  1.25      , -1.5       , -1.83586829, -1.78012694,\n",
       "        -0.5       , -2.33333333],\n",
       "       [-1.25      , -0.75      ,  0.5       ,  2.66666667,  1.5       ,\n",
       "         0.59026766,  0.66666667],\n",
       "       [-1.25      , -2.75      ,  1.5       ,  1.56717366,  1.55602539,\n",
       "         1.59026766,  1.66666667]])"
      ]
     },
     "execution_count": 10,
     "metadata": {},
     "output_type": "execute_result"
    }
   ],
   "source": [
    "K = 2\n",
    "\n",
    "PredictMatrix = np.zeros((len(X_norm), len(X_norm[0])), dtype=float)\n",
    "\n",
    "\n",
    "for i in range (len(X_norm)):\n",
    "    for j in range (len(X_norm[i])):\n",
    "        if X[i,j] == 'nan':\n",
    "            User_rated_index = []\n",
    "            KMaxCorr = []\n",
    "            KMaxNorm = []\n",
    "            for a in range (len(X_norm[i])):\n",
    "                if X[i,a] != 'nan':\n",
    "                    User_rated_index.append(a)\n",
    "            \n",
    "            for a in User_rated_index:\n",
    "                KMaxCorr.append(correlation_matrix[j,a]) \n",
    "                KMaxNorm.append(X_norm[i,a])\n",
    "            KMaxCorr = np.array(KMaxCorr)\n",
    "            KMaxNorm = np.array(KMaxNorm)\n",
    "\n",
    "            sorted_indices = np.argsort(KMaxCorr)\n",
    "            sorted_indices = sorted_indices[::-1]\n",
    "\n",
    "            KMaxCorr = sorted(KMaxCorr,reverse = True)\n",
    "            KMaxNorm = KMaxNorm[sorted_indices]\n",
    "            \n",
    "            KMaxNorm = KMaxNorm[:K]\n",
    "            KMaxCorr = KMaxCorr[:K]\n",
    "            \n",
    "            PredictMatrix[i,j] = np.dot(KMaxCorr, KMaxNorm) / np.sum(np.abs(KMaxCorr))\n",
    "            \n",
    "        else:\n",
    "            PredictMatrix[i,j] = X_norm[i,j]\n",
    "        \n",
    "PredictMatrix"
   ]
  },
  {
   "cell_type": "code",
   "execution_count": 11,
   "id": "f11e6114-1242-4a26-b8b8-c30fd4ec27bc",
   "metadata": {},
   "outputs": [],
   "source": [
    "PredictMatrix = PredictMatrix + theta"
   ]
  },
  {
   "cell_type": "code",
   "execution_count": 35,
   "id": "e020f47f-700f-4f41-830c-da22b898b833",
   "metadata": {
    "tags": []
   },
   "outputs": [
    {
     "data": {
      "image/png": "[encoded data removed]",
      "text/plain": [
       "<Figure size 1200x600 with 2 Axes>"
      ]
     },
     "metadata": {},
     "output_type": "display_data"
    }
   ],
   "source": [
    "fig, (ax1, ax2) = plt.subplots(1, 2, figsize=(12, 6))\n",
    "\n",
    "visualized_array = PredictMatrix.astype(float)\n",
    "visualized_original_array = X.astype(float)\n",
    "\n",
    "ax1.imshow(visualized_array, cmap='coolwarm', aspect='auto', extent=[0, visualized_array.shape[1], 0, visualized_array.shape[0]], vmin=0, vmax=5)\n",
    "ax2.imshow(visualized_original_array, cmap='coolwarm', aspect='auto', extent=[0, visualized_original_array.shape[1], 0, visualized_original_array.shape[0]], vmin=0, vmax=5)\n",
    "\n",
    "ax1.set_xlabel('Movie IDs')\n",
    "ax1.set_ylabel('User IDs')\n",
    "ax1.set_title('Recommend')\n",
    "\n",
    "ax2.set_xlabel('Movie IDs')\n",
    "ax2.set_ylabel('User IDs')\n",
    "ax2.set_title('Original')\n",
    "\n",
    "plt.tight_layout()\n",
    "\n",
    "plt.show()"
   ]
  },
  {
   "cell_type": "code",
   "execution_count": null,
   "id": "fa41f2c2-bbf3-4fcb-8c84-67686ea18b15",
   "metadata": {},
   "outputs": [],
   "source": []
  }
 ],
 "metadata": {
  "kernelspec": {
   "display_name": "Python 3 (ipykernel)",
   "language": "python",
   "name": "python3"
  },
  "language_info": {
   "codemirror_mode": {
    "name": "ipython",
    "version": 3
   },
   "file_extension": ".py",
   "mimetype": "text/x-python",
   "name": "python",
   "nbconvert_exporter": "python",
   "pygments_lexer": "ipython3",
   "version": "3.11.4"
  }
 },
 "nbformat": 4,
 "nbformat_minor": 5
}
